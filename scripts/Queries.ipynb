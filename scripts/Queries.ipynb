{
 "cells": [
  {
   "cell_type": "code",
   "execution_count": 16,
   "metadata": {},
   "outputs": [],
   "source": [
    "import json\n",
    "import pandas as pd\n",
    "import os"
   ]
  },
  {
   "cell_type": "code",
   "execution_count": 5,
   "metadata": {},
   "outputs": [],
   "source": [
    "stats = json.loads(open(\"../outputs/occupied_day.json\").read())\n",
    "stats = stats[\"stats\"]\n"
   ]
  },
  {
   "cell_type": "code",
   "execution_count": 7,
   "metadata": {},
   "outputs": [
    {
     "data": {
      "text/plain": [
       "364"
      ]
     },
     "execution_count": 7,
     "metadata": {},
     "output_type": "execute_result"
    }
   ],
   "source": [
    "len(stats)"
   ]
  },
  {
   "cell_type": "code",
   "execution_count": 9,
   "metadata": {},
   "outputs": [],
   "source": [
    "f = open(\"../outputs/occupied_day.csv\",\"w\")\n",
    "f.write(\"date,desks.occupied\\n\")\n",
    "for stat in stats:\n",
    "    f.write(stat[\"dateTime\"].split(\"T\")[0] + \",\" + str(stat[\"value\"]) + \"\\n\")\n",
    "f.close()"
   ]
  },
  {
   "cell_type": "code",
   "execution_count": 13,
   "metadata": {},
   "outputs": [],
   "source": [
    "df = pd.read_csv(\"../outputs/occupied_day.csv\")"
   ]
  },
  {
   "cell_type": "code",
   "execution_count": 18,
   "metadata": {},
   "outputs": [
    {
     "name": "stdout",
     "output_type": "stream",
     "text": [
      "['23_occupied_day.json', '10_occupied_day.json', '13_occupied_day.json', '20_occupied_day.json', '32_occupied_day.json', '21_occupied_day.json', '29_occupied_day.json', '18_occupied_day.json', '24_occupied_day.json', '28_occupied_day.json', '33_occupied_day.json', '34_occupied_day.json', '7_occupied_day.json', '26_occupied_day.json', '9_occupied_day.json', '25_occupied_day.json', '35_occupied_day.json', '30_occupied_day.json', '19_occupied_day.json', '22_occupied_day.json', '27_occupied_day.json', '17_occupied_day.json', '8_occupied_day.json', '11_occupied_day.json', '15_occupied_day.json', '12_occupied_day.json', '31_occupied_day.json', '14_occupied_day.json', '16_occupied_day.json']\n"
     ]
    }
   ],
   "source": [
    "files = os.listdir(\"../outputs/occupied_day/\")\n",
    "path = \"../outputs/occupied_day/\"\n",
    "print files"
   ]
  },
  {
   "cell_type": "code",
   "execution_count": 19,
   "metadata": {},
   "outputs": [],
   "source": [
    "f = open(\"../outputs/occupied_day_all.csv\",\"w\")\n",
    "f.write(\"building,date,desks.occupied\\n\")\n",
    "for file in files:\n",
    "    route = path+file\n",
    "    stats = json.loads(open(route).read())\n",
    "    building = file.split(\"_\")[0].strip()\n",
    "    stats = stats[\"stats\"]\n",
    "    for stat in stats:\n",
    "        f.write(building + \",\" + stat[\"dateTime\"].split(\"T\")[0] + \",\" + str(stat[\"value\"]) + \"\\n\")\n",
    "f.close()"
   ]
  },
  {
   "cell_type": "code",
   "execution_count": null,
   "metadata": {},
   "outputs": [],
   "source": []
  }
 ],
 "metadata": {
  "kernelspec": {
   "display_name": "Python 2",
   "language": "python",
   "name": "python2"
  },
  "language_info": {
   "codemirror_mode": {
    "name": "ipython",
    "version": 2
   },
   "file_extension": ".py",
   "mimetype": "text/x-python",
   "name": "python",
   "nbconvert_exporter": "python",
   "pygments_lexer": "ipython2",
   "version": "2.7.12"
  }
 },
 "nbformat": 4,
 "nbformat_minor": 2
}
