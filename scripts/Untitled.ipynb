{
 "cells": [
  {
   "cell_type": "code",
   "execution_count": 8,
   "metadata": {},
   "outputs": [],
   "source": [
    "import json\n",
    "import pandas as pd\n",
    "import unicoded"
   ]
  },
  {
   "cell_type": "code",
   "execution_count": 30,
   "metadata": {},
   "outputs": [],
   "source": [
    "\n",
    "g = json.loads(open('suiza.geojson').read())\n",
    "distritos = g[\"features\"]\n",
    "districts = dict()\n",
    "'''\n",
    "\n",
    "names = [\"SUR\",\"ESTEROS\",\"9 DE OCTUBRE\",\"PORTETE\",\"CENTRO\",\"NORTE\",\"PASCUALES\",\"NUEVA PROSPERINA\",\"CEIBOS\"]\n",
    "total_names = {\"SUR\":[\"GUASMO\",\"UNION DE BANANEROS\",\"FLORESTA\",\"7 LAGOS\",\"CENTENARIO\"],\"ESTEROS\":[\"ESTEROS\", \"MALVINAS SUR\",\"MALVINAS NORTE\",\"TRINITARIA NORTE\",\"TRINITARIA SUR\"],\"9 DE OCTUBRE\":[\"9 DE OCTUBRE\",\"VICTORIA\",\"CHILE\",\"GARAY\",\"VENEZUELA\",\"ANTEPARA\",\"CRISTO DEL CONSUELO\"],\"PORTETE\":[\"BATALLON DEL SUBURBIO\",\"SUBURBIO\",\"PORTETE\",\"CISNE\",\"CHALA\",\"SALINAS\"],\"CENTRO\":[\"URDESA\",\"KENNEDY\",\"ATARAZANA\",\"ALBORADA\",\"SAUCES\",\"GUAYACANES\"],\"NORTE\":[\"BELLAVISTA\",\"MAPASINGUE\",\"FLORIDA\",\"MARTHA DE ROLDOS\",\"JUAN MONTALVO\",\"SAMANES\"],\"PASCUALES\":[\"MONTEBELLO\",\"BASTION POPULAR NORTE\",\"BASTION POPULAR SUR\",\"PASCUALES\",\"MUCHO LOTE\",\"ORQUIDEAS\",\"SAN FRANCISCO\",\"PUENTE LUCIA\"],\"NUEVA PROSPERINA\":[\"MONTE SINAI\",\"NUEVO GUAYAQUIL\",\"FLOR DE BASTION\",\"NUEVA PROSPERINA\",\"FORTIN\",\"PARAISO DE LA FLOR\"],\"CEIBOS\":[\"CEIBOS\",\"PUERTO HONDO\",\"CHONGON\"]}\n",
    "'''\n",
    "for distrito in distritos:\n",
    "    lats = []\n",
    "    lons = []\n",
    "    name = distrito[\"properties\"][\"name\"].encode('utf-8')   \n",
    "    coordenadas = distrito[\"geometry\"][\"coordinates\"][0]\n",
    "    for coordenada in coordenadas:\n",
    "        lats.append(coordenada[1])\n",
    "        lons.append(coordenada[0])\n",
    "    districts[name]={\"canton\":name,\"lats\":lats,\"lons\":lons}\n",
    "\n",
    "def elimina_tildes(cadena):\n",
    "    cadena = cadena.decode('utf-8')\n",
    "    s = ''.join((c for c in unicodedata.normalize('NFD',unicode(cadena)) if unicodedata.category(c) != 'Mn'))\n",
    "    return s.decode().upper().strip(\".\")"
   ]
  },
  {
   "cell_type": "code",
   "execution_count": 34,
   "metadata": {},
   "outputs": [
    {
     "name": "stdout",
     "output_type": "stream",
     "text": [
      "None\n",
      "0                     Aargau\n",
      "1     Appenzell Ausserrhoden\n",
      "2      Appenzell Innerrhoden\n",
      "3           Basel-Landschaft\n",
      "4                Basel-Stadt\n",
      "5                       Bern\n",
      "6                   Fribourg\n",
      "7                     Genève\n",
      "8                     Glarus\n",
      "9                 Graubünden\n",
      "10                      Jura\n",
      "11                    Luzern\n",
      "12                 Neuchâtel\n",
      "13                 Nidwalden\n",
      "14                  Obwalden\n",
      "15              Schaffhausen\n",
      "16                    Schwyz\n",
      "17                 Solothurn\n",
      "18                St. Gallen\n",
      "19                   Thurgau\n",
      "20                    Ticino\n",
      "21                       Uri\n",
      "22                    Valais\n",
      "23                      Vaud\n",
      "24                       Zug\n",
      "25                    Zürich\n",
      "dtype: object\n"
     ]
    },
    {
     "ename": "NameError",
     "evalue": "global name 'unicodedata' is not defined",
     "output_type": "error",
     "traceback": [
      "\u001b[0;31m---------------------------------------------------------------------------\u001b[0m",
      "\u001b[0;31mNameError\u001b[0m                                 Traceback (most recent call last)",
      "\u001b[0;32m<ipython-input-34-bb4f592e89e8>\u001b[0m in \u001b[0;36m<module>\u001b[0;34m()\u001b[0m\n\u001b[1;32m     29\u001b[0m \u001b[0ma\u001b[0m \u001b[0;34m=\u001b[0m \u001b[0mpd\u001b[0m\u001b[0;34m.\u001b[0m\u001b[0mSeries\u001b[0m\u001b[0;34m(\u001b[0m\u001b[0mcantons\u001b[0m\u001b[0;34m)\u001b[0m\u001b[0;34m.\u001b[0m\u001b[0msort_values\u001b[0m\u001b[0;34m(\u001b[0m\u001b[0;34m)\u001b[0m\u001b[0;34m\u001b[0m\u001b[0m\n\u001b[1;32m     30\u001b[0m \u001b[0;32mprint\u001b[0m \u001b[0ma\u001b[0m\u001b[0;34m\u001b[0m\u001b[0m\n\u001b[0;32m---> 31\u001b[0;31m \u001b[0ma\u001b[0m \u001b[0;34m=\u001b[0m \u001b[0ma\u001b[0m\u001b[0;34m.\u001b[0m\u001b[0mapply\u001b[0m\u001b[0;34m(\u001b[0m\u001b[0melimina_tildes\u001b[0m\u001b[0;34m)\u001b[0m\u001b[0;34m\u001b[0m\u001b[0m\n\u001b[0m\u001b[1;32m     32\u001b[0m \u001b[0ma\u001b[0m\u001b[0;34m\u001b[0m\u001b[0m\n",
      "\u001b[0;32m/usr/local/lib/python2.7/dist-packages/pandas/core/series.pyc\u001b[0m in \u001b[0;36mapply\u001b[0;34m(self, func, convert_dtype, args, **kwds)\u001b[0m\n\u001b[1;32m   2353\u001b[0m             \u001b[0;32melse\u001b[0m\u001b[0;34m:\u001b[0m\u001b[0;34m\u001b[0m\u001b[0m\n\u001b[1;32m   2354\u001b[0m                 \u001b[0mvalues\u001b[0m \u001b[0;34m=\u001b[0m \u001b[0mself\u001b[0m\u001b[0;34m.\u001b[0m\u001b[0masobject\u001b[0m\u001b[0;34m\u001b[0m\u001b[0m\n\u001b[0;32m-> 2355\u001b[0;31m                 \u001b[0mmapped\u001b[0m \u001b[0;34m=\u001b[0m \u001b[0mlib\u001b[0m\u001b[0;34m.\u001b[0m\u001b[0mmap_infer\u001b[0m\u001b[0;34m(\u001b[0m\u001b[0mvalues\u001b[0m\u001b[0;34m,\u001b[0m \u001b[0mf\u001b[0m\u001b[0;34m,\u001b[0m \u001b[0mconvert\u001b[0m\u001b[0;34m=\u001b[0m\u001b[0mconvert_dtype\u001b[0m\u001b[0;34m)\u001b[0m\u001b[0;34m\u001b[0m\u001b[0m\n\u001b[0m\u001b[1;32m   2356\u001b[0m \u001b[0;34m\u001b[0m\u001b[0m\n\u001b[1;32m   2357\u001b[0m         \u001b[0;32mif\u001b[0m \u001b[0mlen\u001b[0m\u001b[0;34m(\u001b[0m\u001b[0mmapped\u001b[0m\u001b[0;34m)\u001b[0m \u001b[0;32mand\u001b[0m \u001b[0misinstance\u001b[0m\u001b[0;34m(\u001b[0m\u001b[0mmapped\u001b[0m\u001b[0;34m[\u001b[0m\u001b[0;36m0\u001b[0m\u001b[0;34m]\u001b[0m\u001b[0;34m,\u001b[0m \u001b[0mSeries\u001b[0m\u001b[0;34m)\u001b[0m\u001b[0;34m:\u001b[0m\u001b[0;34m\u001b[0m\u001b[0m\n",
      "\u001b[0;32mpandas/_libs/src/inference.pyx\u001b[0m in \u001b[0;36mpandas._libs.lib.map_infer (pandas/_libs/lib.c:66645)\u001b[0;34m()\u001b[0m\n",
      "\u001b[0;32m<ipython-input-30-7596175e088d>\u001b[0m in \u001b[0;36melimina_tildes\u001b[0;34m(cadena)\u001b[0m\n\u001b[1;32m     20\u001b[0m \u001b[0;32mdef\u001b[0m \u001b[0melimina_tildes\u001b[0m\u001b[0;34m(\u001b[0m\u001b[0mcadena\u001b[0m\u001b[0;34m)\u001b[0m\u001b[0;34m:\u001b[0m\u001b[0;34m\u001b[0m\u001b[0m\n\u001b[1;32m     21\u001b[0m     \u001b[0mcadena\u001b[0m \u001b[0;34m=\u001b[0m \u001b[0mcadena\u001b[0m\u001b[0;34m.\u001b[0m\u001b[0mdecode\u001b[0m\u001b[0;34m(\u001b[0m\u001b[0;34m'utf-8'\u001b[0m\u001b[0;34m)\u001b[0m\u001b[0;34m\u001b[0m\u001b[0m\n\u001b[0;32m---> 22\u001b[0;31m     \u001b[0ms\u001b[0m \u001b[0;34m=\u001b[0m \u001b[0;34m''\u001b[0m\u001b[0;34m.\u001b[0m\u001b[0mjoin\u001b[0m\u001b[0;34m(\u001b[0m\u001b[0;34m(\u001b[0m\u001b[0mc\u001b[0m \u001b[0;32mfor\u001b[0m \u001b[0mc\u001b[0m \u001b[0;32min\u001b[0m \u001b[0municodedata\u001b[0m\u001b[0;34m.\u001b[0m\u001b[0mnormalize\u001b[0m\u001b[0;34m(\u001b[0m\u001b[0;34m'NFD'\u001b[0m\u001b[0;34m,\u001b[0m\u001b[0municode\u001b[0m\u001b[0;34m(\u001b[0m\u001b[0mcadena\u001b[0m\u001b[0;34m)\u001b[0m\u001b[0;34m)\u001b[0m \u001b[0;32mif\u001b[0m \u001b[0municodedata\u001b[0m\u001b[0;34m.\u001b[0m\u001b[0mcategory\u001b[0m\u001b[0;34m(\u001b[0m\u001b[0mc\u001b[0m\u001b[0;34m)\u001b[0m \u001b[0;34m!=\u001b[0m \u001b[0;34m'Mn'\u001b[0m\u001b[0;34m)\u001b[0m\u001b[0;34m)\u001b[0m\u001b[0;34m\u001b[0m\u001b[0m\n\u001b[0m\u001b[1;32m     23\u001b[0m     \u001b[0;32mreturn\u001b[0m \u001b[0ms\u001b[0m\u001b[0;34m.\u001b[0m\u001b[0mdecode\u001b[0m\u001b[0;34m(\u001b[0m\u001b[0;34m)\u001b[0m\u001b[0;34m.\u001b[0m\u001b[0mupper\u001b[0m\u001b[0;34m(\u001b[0m\u001b[0;34m)\u001b[0m\u001b[0;34m.\u001b[0m\u001b[0mstrip\u001b[0m\u001b[0;34m(\u001b[0m\u001b[0;34m\".\"\u001b[0m\u001b[0;34m)\u001b[0m\u001b[0;34m\u001b[0m\u001b[0m\n",
      "\u001b[0;31mNameError\u001b[0m: global name 'unicodedata' is not defined"
     ]
    }
   ],
   "source": [
    "data = pd.read_table(\"empty_dwelling.txt\")\n",
    "cantons = [\"Zürich\",\n",
    "\"Bern\",\n",
    "\"Luzern\",\n",
    "\"Uri\",\n",
    "\"Schwyz\",\n",
    "\"Obwalden\",\n",
    "\"Nidwalden\",\n",
    "\"Glarus\",\n",
    "\"Zug\",\n",
    "\"Fribourg\",\n",
    "\"Solothurn\",\n",
    "\"Basel-Stadt\",\n",
    "\"Basel-Landschaft\",\n",
    "\"Schaffhausen\",\n",
    "\"Appenzell Ausserrhoden\",\n",
    "\"Appenzell Innerrhoden\",\n",
    "\"St. Gallen\",\n",
    "\"Graubünden\",\n",
    "\"Aargau\",\n",
    "\"Thurgau\",\n",
    "\"Ticino\",\n",
    "\"Vaud\",\n",
    "\"Valais\",\n",
    "\"Neuchâtel\",\n",
    "\"Genève\",\n",
    "\"Jura\"]\n",
    "print cantons.sort()\n",
    "a = pd.Series(cantons).sort_values()\n",
    "print a\n",
    "a = a.apply(elimina_tildes)\n",
    "a"
   ]
  },
  {
   "cell_type": "code",
   "execution_count": 24,
   "metadata": {},
   "outputs": [
    {
     "name": "stdout",
     "output_type": "stream",
     "text": [
      "10              Aargau\n",
      "14     Appenzell A.Rh.\n",
      "15     Appenzell I.Rh.\n",
      "9     Basel-Landschaft\n",
      "8          Basel-Stadt\n",
      "3                 Bern\n",
      "4             Fribourg\n",
      "2               Geneva\n",
      "12              Glarus\n",
      "17          Graub�nden\n",
      "7                 Jura\n",
      "19             Lucerne\n",
      "6            Neuch�tel\n",
      "23           Nidwalden\n",
      "22            Obwalden\n",
      "13        Schaffhausen\n",
      "21              Schwyz\n",
      "5            Solothurn\n",
      "16           St.Gallen\n",
      "18             Thurgau\n",
      "25              Ticino\n",
      "20                 Uri\n",
      "1               Valais\n",
      "0                 Vaud\n",
      "24                 Zug\n",
      "11              Zurich\n",
      "Name: Canton, dtype: object\n"
     ]
    }
   ],
   "source": [
    "b = data[\"Canton\"].sort_values()\n",
    "print b"
   ]
  },
  {
   "cell_type": "code",
   "execution_count": 2,
   "metadata": {},
   "outputs": [],
   "source": [
    "from zipch import ZipcodesDatabase\n",
    "zd = ZipcodesDatabase('/tmp/zipcodes')"
   ]
  },
  {
   "cell_type": "code",
   "execution_count": 3,
   "metadata": {},
   "outputs": [
    {
     "data": {
      "text/plain": [
       "[u'AG',\n",
       " u'AI',\n",
       " u'AR',\n",
       " u'BE',\n",
       " u'BL',\n",
       " u'BS',\n",
       " u'FR',\n",
       " u'GE',\n",
       " u'GL',\n",
       " u'GR',\n",
       " u'JU',\n",
       " u'LI',\n",
       " u'LU',\n",
       " u'NE',\n",
       " u'NW',\n",
       " u'OW',\n",
       " u'SG',\n",
       " u'SH',\n",
       " u'SO',\n",
       " u'SZ',\n",
       " u'TG',\n",
       " u'TI',\n",
       " u'UR',\n",
       " u'VD',\n",
       " u'VS',\n",
       " u'ZG',\n",
       " u'ZH']"
      ]
     },
     "execution_count": 3,
     "metadata": {},
     "output_type": "execute_result"
    }
   ],
   "source": [
    "zd.get_cantons()"
   ]
  },
  {
   "cell_type": "code",
   "execution_count": null,
   "metadata": {},
   "outputs": [],
   "source": []
  }
 ],
 "metadata": {
  "kernelspec": {
   "display_name": "Python 2",
   "language": "python",
   "name": "python2"
  },
  "language_info": {
   "codemirror_mode": {
    "name": "ipython",
    "version": 2
   },
   "file_extension": ".py",
   "mimetype": "text/x-python",
   "name": "python",
   "nbconvert_exporter": "python",
   "pygments_lexer": "ipython2",
   "version": "2.7.12"
  }
 },
 "nbformat": 4,
 "nbformat_minor": 2
}
